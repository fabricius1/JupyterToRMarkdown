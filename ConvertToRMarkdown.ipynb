{
 "cells": [
  {
   "cell_type": "code",
   "execution_count": 14,
   "id": "e65a17c8",
   "metadata": {},
   "outputs": [],
   "source": [
    "import json\n",
    "\n",
    "\n",
    "with open(\"test_notebook.ipynb\", encoding = \"UTF-8\") as file:\n",
    "    data = json.load(file)"
   ]
  },
  {
   "cell_type": "code",
   "execution_count": 15,
   "id": "8d9a5162",
   "metadata": {},
   "outputs": [],
   "source": [
    "# get the programming language info\n",
    "programming_language = data[\"metadata\"][\"kernelspec\"][\"language\"]"
   ]
  },
  {
   "cell_type": "code",
   "execution_count": 16,
   "id": "4a824635",
   "metadata": {},
   "outputs": [],
   "source": [
    "# list comprehension to get the necessary information for each cell:\n",
    "cells = [ [x[\"cell_type\"], x[\"source\"]] for x in data[\"cells\"] ]"
   ]
  },
  {
   "cell_type": "code",
   "execution_count": 17,
   "id": "931d5051",
   "metadata": {},
   "outputs": [],
   "source": [
    "author = \"Fabrício\"\n",
    "date = \"September 9th, 2021\"\n",
    "\n",
    "yaml_config = f\"\"\"---\n",
    "title: |\n",
    "  <center>A Python Jupyter Notebook</center>  \n",
    "  <center>Converted to RMarkdown</center>\n",
    "  <br />\n",
    "author: |\n",
    "  <p style=\"float: right\">{author}</p>\n",
    "  <br />\n",
    "date: |\n",
    "  <p style=\"float: right\">{date}</p>\n",
    "  <br />\n",
    "output:\n",
    "  html_document:\n",
    "    highlight: textmate\n",
    "    theme: flatly\n",
    "    number_sections: yes\n",
    "    toc: yes\n",
    "    toc_float:\n",
    "      collapse: yes\n",
    "      smooth_scroll: yes\n",
    "---\n",
    "\n",
    "\"\"\"\n",
    "\n",
    "file_text = yaml_config"
   ]
  },
  {
   "cell_type": "code",
   "execution_count": 18,
   "id": "d4075609",
   "metadata": {},
   "outputs": [],
   "source": [
    "for cell_type, source in cells:\n",
    "    if cell_type == \"markdown\" and source:\n",
    "        file_text += \"\".join(source) + \"\\n\\n\"\n",
    "    elif cell_type == \"code\" and source:\n",
    "        code_block = (\n",
    "f\"\"\"```{{{programming_language}}}\n",
    "{''.join(source)}\n",
    "```\\n\\n\"\"\"\n",
    "        )\n",
    "        \n",
    "        file_text += code_block + \"\\n\\n\"\n",
    "        \n",
    "        \n",
    "with open(\"converted_notebook.Rmd\", \"w\", encoding = \"UTF-8\") as file:\n",
    "    file.write(file_text)"
   ]
  },
  {
   "cell_type": "code",
   "execution_count": null,
   "id": "7cc1827a",
   "metadata": {},
   "outputs": [],
   "source": []
  }
 ],
 "metadata": {
  "kernelspec": {
   "display_name": "Python 3 (ipykernel)",
   "language": "python",
   "name": "python3"
  },
  "language_info": {
   "codemirror_mode": {
    "name": "ipython",
    "version": 3
   },
   "file_extension": ".py",
   "mimetype": "text/x-python",
   "name": "python",
   "nbconvert_exporter": "python",
   "pygments_lexer": "ipython3",
   "version": "3.9.6"
  }
 },
 "nbformat": 4,
 "nbformat_minor": 5
}
