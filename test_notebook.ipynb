{
 "cells": [
  {
   "cell_type": "markdown",
   "id": "a8eb4deb",
   "metadata": {},
   "source": [
    "# Header 1\n",
    "## Header 2\n",
    "### Header 3\n",
    "#### header 4\n",
    "##### header 5\n",
    "###### header 6\n",
    "\n",
    "<br />\n",
    "\n",
    "This paragraph has examples of words in **bold**, *italic* and `inline block code`.\n",
    "\n",
    "<br />\n",
    "\n",
    "[python website](https://docs.python.org/3/)\n",
    "\n",
    "<br />\n",
    "\n",
    "This is an unordered list (RMarkdown will need the space before and after the list items):\n",
    "\n",
    "* spam\n",
    "\n",
    "* eggs\n",
    "\n",
    "* bacon\n",
    "\n",
    "This is an ordered list (spaces before and after the list items needed here too):\n",
    "\n",
    "1. one\n",
    "\n",
    "2. two\n",
    "\n",
    "3. three\n",
    "\n",
    "This citation comes from the Python Tutorial:\n",
    "\n",
    "> Python is an easy to learn, powerful programming language. It has efficient high-level data structures and a simple but effective approach to object-oriented programming. Python’s elegant syntax and dynamic typing, together with its interpreted nature, make it an ideal language for scripting and rapid application development in many areas on most platforms.\n"
   ]
  },
  {
   "cell_type": "code",
   "execution_count": 8,
   "id": "867dcde0",
   "metadata": {},
   "outputs": [
    {
     "name": "stdout",
     "output_type": "stream",
     "text": [
      "random number 1: 94\n",
      "random number 2: 43\n",
      "random number 3: 5\n",
      "random number 4: 95\n",
      "random number 5: 16\n"
     ]
    }
   ],
   "source": [
    "import random\n",
    "\n",
    "\n",
    "for number in range(5):\n",
    "    print(f\"random number {number + 1}:\", random.randint(1,100))"
   ]
  },
  {
   "cell_type": "markdown",
   "id": "bd627f25",
   "metadata": {},
   "source": [
    "# new code\n",
    "\n",
    "## a new example of markdown\n",
    "\n",
    "Let's import a dataset and check its first five rows"
   ]
  },
  {
   "cell_type": "code",
   "execution_count": 7,
   "id": "cf8ce277",
   "metadata": {},
   "outputs": [
    {
     "data": {
      "text/html": [
       "<div>\n",
       "<style scoped>\n",
       "    .dataframe tbody tr th:only-of-type {\n",
       "        vertical-align: middle;\n",
       "    }\n",
       "\n",
       "    .dataframe tbody tr th {\n",
       "        vertical-align: top;\n",
       "    }\n",
       "\n",
       "    .dataframe thead th {\n",
       "        text-align: right;\n",
       "    }\n",
       "</style>\n",
       "<table border=\"1\" class=\"dataframe\">\n",
       "  <thead>\n",
       "    <tr style=\"text-align: right;\">\n",
       "      <th></th>\n",
       "      <th>dataset</th>\n",
       "      <th>x</th>\n",
       "      <th>y</th>\n",
       "    </tr>\n",
       "  </thead>\n",
       "  <tbody>\n",
       "    <tr>\n",
       "      <th>0</th>\n",
       "      <td>I</td>\n",
       "      <td>10.0</td>\n",
       "      <td>8.04</td>\n",
       "    </tr>\n",
       "    <tr>\n",
       "      <th>1</th>\n",
       "      <td>I</td>\n",
       "      <td>8.0</td>\n",
       "      <td>6.95</td>\n",
       "    </tr>\n",
       "    <tr>\n",
       "      <th>2</th>\n",
       "      <td>I</td>\n",
       "      <td>13.0</td>\n",
       "      <td>7.58</td>\n",
       "    </tr>\n",
       "    <tr>\n",
       "      <th>3</th>\n",
       "      <td>I</td>\n",
       "      <td>9.0</td>\n",
       "      <td>8.81</td>\n",
       "    </tr>\n",
       "    <tr>\n",
       "      <th>4</th>\n",
       "      <td>I</td>\n",
       "      <td>11.0</td>\n",
       "      <td>8.33</td>\n",
       "    </tr>\n",
       "  </tbody>\n",
       "</table>\n",
       "</div>"
      ],
      "text/plain": [
       "  dataset     x     y\n",
       "0       I  10.0  8.04\n",
       "1       I   8.0  6.95\n",
       "2       I  13.0  7.58\n",
       "3       I   9.0  8.81\n",
       "4       I  11.0  8.33"
      ]
     },
     "execution_count": 7,
     "metadata": {},
     "output_type": "execute_result"
    }
   ],
   "source": [
    "import seaborn as sns\n",
    "\n",
    "\n",
    "df = sns.load_dataset(\"anscombe\")\n",
    "df.head()"
   ]
  },
  {
   "cell_type": "code",
   "execution_count": null,
   "id": "5c17b02c",
   "metadata": {},
   "outputs": [],
   "source": []
  }
 ],
 "metadata": {
  "kernelspec": {
   "display_name": "Python 3 (ipykernel)",
   "language": "python",
   "name": "python3"
  },
  "language_info": {
   "codemirror_mode": {
    "name": "ipython",
    "version": 3
   },
   "file_extension": ".py",
   "mimetype": "text/x-python",
   "name": "python",
   "nbconvert_exporter": "python",
   "pygments_lexer": "ipython3",
   "version": "3.9.6"
  }
 },
 "nbformat": 4,
 "nbformat_minor": 5
}
